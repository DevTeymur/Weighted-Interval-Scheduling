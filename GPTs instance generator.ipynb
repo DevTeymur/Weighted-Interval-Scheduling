{
 "cells": [
  {
   "cell_type": "code",
   "execution_count": null,
   "id": "52efe596",
   "metadata": {},
   "outputs": [],
   "source": [
    "import random\n",
    "import os\n",
    "import zipfile\n",
    "\n",
    "# Create directory to hold instances\n",
    "output_dir = \"job_scheduling_instances\"\n",
    "os.makedirs(output_dir, exist_ok=True)\n",
    "\n",
    "# Configuration\n",
    "num_instances = 1000\n",
    "min_jobs = 2\n",
    "max_jobs = 19\n",
    "min_time_slot = 1\n",
    "max_time_slot = 100\n",
    "\n",
    "for instance_id in range(1, num_instances + 1):\n",
    "    n = random.randint(min_jobs, max_jobs)\n",
    "    lines = [str(n)]\n",
    "    \n",
    "    for _ in range(n):\n",
    "        rj = random.randint(min_time_slot, max_time_slot - 10)\n",
    "        pj = random.randint(1, 10)\n",
    "        dj = random.randint(rj + pj, rj + pj + 20)\n",
    "        wj = random.randint(10, 100)\n",
    "        lj = random.randint(5, 50)\n",
    "        \n",
    "        line = f\"{rj},{dj},{pj},{wj},{lj}\"\n",
    "        lines.append(line)\n",
    "    \n",
    "    filename = f\"instance_{instance_id:04d}.txt\"\n",
    "    filepath = os.path.join(output_dir, filename)\n",
    "    \n",
    "    with open(filepath, 'w') as f:\n",
    "        f.write(\"\\n\".join(lines))\n",
    "\n",
    "# Zip all files\n",
    "zip_filename = \"job_scheduling_instances.zip\"\n",
    "with zipfile.ZipFile(zip_filename, 'w', zipfile.ZIP_DEFLATED) as zipf:\n",
    "    for root, _, files in os.walk(output_dir):\n",
    "        for file in files:\n",
    "            file_path = os.path.join(root, file)\n",
    "            arcname = os.path.relpath(file_path, output_dir)\n",
    "            zipf.write(file_path, arcname)\n",
    "\n",
    "print(f\"All {num_instances} instances generated and zipped as '{zip_filename}'.\")\n"
   ]
  }
 ],
 "metadata": {
  "language_info": {
   "name": "python"
  }
 },
 "nbformat": 4,
 "nbformat_minor": 5
}
